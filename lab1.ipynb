{
 "cells": [
  {
   "cell_type": "code",
   "execution_count": 1,
   "metadata": {},
   "outputs": [],
   "source": [
    "%matplotlib inline\n",
    "import matplotlib\n",
    "import numpy as np\n",
    "import matplotlib.pyplot as plt"
   ]
  },
  {
   "cell_type": "markdown",
   "metadata": {},
   "source": [
    "# Lab 1: Text Corpora and Language Modelling\n",
    "\n",
    "Welcome to the first lab assignment of INFOMNLP 2020. \n",
    "\n",
    "This lab is meant to help you get familiar with some language data, and use this data to estimate simple models called N-gram language models.\n",
    "\n",
    "First you will use the **Penn Treebank**, which is a collection of newspaper articles from the newspaper \n",
    "The Wall Street Journal. The idea is to examine the data and notice interesting properties. This will not take more than a few lines of code. The Penn Treebank may be the most widely used corpus in NLP.\n",
    "\n",
    "Then you will use a corpus consisting of **TedX** talks. This you will use to estimate an **N-gram language model** for different orders of N, and use this this for some tasks.\n",
    "\n",
    "The datasets are on Blackboard. Download the zip and make sure to put the files in the same directory as the notebook.\n",
    "\n",
    "### Rules\n",
    "* The lab exercises should be made in **groups of two people**.\n",
    "\n",
    "* The assignment should submitted to **Blackboard** as `.ipynb`. Only **one submission per group**.\n",
    "\n",
    "* The **filename** should be `lab1_id1_id2.ipynb`.\n",
    " \n",
    "* The questions marked **Extra** or **Optional** are an additional challenge for those interested in going the extra mile. \n",
    "\n",
    "* We may not grade all sub-questions (instead, we may choose a sub-set and scale the points). However, solve them as if they were.\n",
    "\n",
    "Notes on implementation:\n",
    "\n",
    "* You should **write your code and answers in this iPython Notebook**. (See http://ipython.org/notebook.html for reference material.) If you have problems, please contact your teaching assistant.\n",
    "\n",
    "* Use only **one cell for code** and **one cell for markdown** answers!    \n",
    "\n",
    "    * Put all code in the cell with the `# YOUR CODE HERE` comment.\n",
    "    \n",
    "    * For theoretical questions, put your solution in the YOUR ANSWER HERE cell.\n",
    "    \n",
    "* Test your code and **make sure we can run your notebook**"
   ]
  },
  {
   "cell_type": "markdown",
   "metadata": {},
   "source": [
    "# 1. Penn treebank\n",
    "\n",
    "## Exercise 1.1 \n",
    "(40 points, 5 points per subquestion )\n",
    "\n",
    "You are provided with a corpus containing words with their Part-of-Speech tags (POS-tags for short). The format is\n",
    "**word|POS** (one sentence per line) and the file name is **sec02-22.gold.tagged**. This data is extracted from Sections 02-22 from the Penn Treebank: these sections are most commonly used for training statistical models like POS-taggers and parsers.\n",
    "\n",
    "**[Hint]** **Figure 8.1** in chapter 8 of Jurafsky and Martin (see (https://web.stanford.edu/~jurafsky/slp3/8.pdf)) holds a summary of the 45 POS-tags used in the Penn Treebank tagset together with their meaning and some examples. (If you are keen on learning more about the word-classes represented POS-tags and their definitions you can do a litle reading ahead for next week and already have a look at section 8.1 of the same chapter).\n",
    "\n",
    "**[Hint]** the Python library [collections](https://docs.python.org/2/library/collections.html) has an object called `Counter` which will come in handy for this exercise."
   ]
  },
  {
   "cell_type": "markdown",
   "metadata": {},
   "source": [
    " "
   ]
  },
  {
   "cell_type": "markdown",
   "metadata": {},
   "source": [
    "**(a)** How large is the corpus? (i.e. how **many tokens**). And what is the size of the **vocabulary** used in this corpus? \n",
    "\n",
    "Estimate the vocabulary size both by **lowercasing** all the words as well as by leaving the words in their **original orthography**. What is an advantage of lowercasing all the words in your corpus? What is a notable downside? **Give examples.**"
   ]
  },
  {
   "cell_type": "code",
   "execution_count": 2,
   "metadata": {},
   "outputs": [
    {
     "name": "stdout",
     "output_type": "stream",
     "text": [
      "The corpus includes 929552 tokens \n",
      "\n",
      "The total number of tokens is : 929552\n",
      "-----------------------\n",
      "The size of the vocabulary with the original orthography and without POS is : 44210\n",
      "The size of the vocabulary with all words lowercased and without POS is : 39384\n",
      "-----------------------\n",
      "The size of the vocabulary with the original orthography and with POS is : 51643\n",
      "The size of the vocabulary with all words lowercased and with POS  is : 48233\n"
     ]
    }
   ],
   "source": [
    "from collections import Counter\n",
    "file = open('sec02-21.gold.tagged', 'r') \n",
    "c =0 #to count each word\n",
    "toBeVocablower = [] #a list to contain all the words in the corpus lowercased with POS\n",
    "toBeVocablowerNoPos = [] #a list to contain all the words in the corpus lowercased without POS\n",
    "toBeVocab = [] #a list to contain all the words in the corpus with original orth with POS\n",
    "toBeVocabNoPos = [] #a list to contain all the words in the corpus with original orth without POS\n",
    "for line in file:\n",
    "    c = c+ len(line.split())\n",
    "    for word in line.split():\n",
    "        toBeVocablower.append(word.lower())# append any word after lowercasing it\n",
    "        toBeVocablowerNoPos.append(word.split(\"|\",1)[0].lower())# append any word after lowercasing it\n",
    "        toBeVocab.append(word)\n",
    "        toBeVocabNoPos.append(word.split(\"|\",1)[0])\n",
    "        \n",
    "        \n",
    "print(\"The corpus includes \" + str(c) +\" tokens \\n\")\n",
    "\n",
    "cnt = Counter()#counters for every different case created above\n",
    "for word in toBeVocab:\n",
    "    cnt[word] += 1\n",
    "cnt1 = Counter()\n",
    "for word in toBeVocabNoPos:\n",
    "    cnt1[word] += 1\n",
    "cnta = Counter()\n",
    "for word in toBeVocablower:\n",
    "    cnta[word] += 1\n",
    "cntb = Counter()\n",
    "for word in toBeVocablowerNoPos:\n",
    "    cntb[word] += 1\n",
    "\n",
    "print(\"The total number of tokens is :\", str(c))\n",
    "print(\"-----------------------\")\n",
    "print(\"The size of the vocabulary with the original orthography and without POS is :\", len(cnt1))\n",
    "print(\"The size of the vocabulary with all words lowercased and without POS is :\", len(cntb))\n",
    "print(\"-----------------------\")\n",
    "print(\"The size of the vocabulary with the original orthography and with POS is :\", len(cnt))\n",
    "print(\"The size of the vocabulary with all words lowercased and with POS  is :\", len(cnta))\n",
    "\n"
   ]
  },
  {
   "cell_type": "markdown",
   "metadata": {},
   "source": [
    "We examined the cases that words are counted with and without POS. According to our analysis:\n",
    "The total number of tokens is : 929552\n",
    "The size of the vocabulary with the original orthography and without POS is : 44210\n",
    "The size of the vocabulary with all words lowercased and without POS is : 39384\n",
    "The size of the vocabulary with the original orthography and with POS is : 51643\n",
    "The size of the vocabulary with all words lowercased and with POS  is : 48233\n",
    "\n",
    "We use lowercasing when creating the vocabulary, because a word in the start of a sentence has its first letter capitalized and that would lead to the word to be considered a different instance. For example the words \"play\" and \"Play\" would have been considered as different words when in reality they are not. The disadvantage of lowercasing is the information loss that occurs. In more details, some words start with a capital letter (names, cities, etc) or they were used with capital letters for a purpouse and after that process their distinction will seize to exist in the vocabulary."
   ]
  },
  {
   "cell_type": "markdown",
   "metadata": {},
   "source": [
    "------\n",
    "For the rest of this exercise you should use the **original orthography** of the data when answering the questions.\n",
    "\n",
    "------\n"
   ]
  },
  {
   "cell_type": "markdown",
   "metadata": {},
   "source": [
    "**(b)** Plot a graph of word frequency versus rank of a word, in this corpus. Does this corpus obey **Zipf’s law**?"
   ]
  },
  {
   "cell_type": "code",
   "execution_count": 3,
   "metadata": {
    "scrolled": true
   },
   "outputs": [
    {
     "data": {
      "image/png": "[encoded data removed]",
      "text/plain": [
       "<Figure size 432x288 with 1 Axes>"
      ]
     },
     "metadata": {
      "needs_background": "light"
     },
     "output_type": "display_data"
    }
   ],
   "source": [
    "import operator\n",
    "import numpy as np\n",
    "ourVocab = dict(cnt)\n",
    "#ourVocab = dict(cnt1)\n",
    "sortedDoc = (sorted(ourVocab.items(), key = operator.itemgetter(1)))[::-1]\n",
    "\n",
    "counts = []\n",
    "rank = []\n",
    "wordRanked = []\n",
    "i = 1\n",
    "for key,value in sortedDoc:\n",
    "    counts.append(value)\n",
    "    wordRanked.append(key)\n",
    "    rank.append(i)\n",
    "    i+=1\n",
    "    \n",
    "fig, ax = plt.subplots()\n",
    "ax.scatter(rank, counts, alpha=0.5, s = 100, color = \"orange\")\n",
    "\n",
    "ax.set_xlabel(\"Rank of the word\", fontsize=15)\n",
    "ax.set_ylabel(\"Total Number of Occurrences\", fontsize=15)\n",
    "ax.set_title(\"Word Frequencies in \")\n",
    "plt.xticks(np.arange(0,50000, 10000))\n",
    "plt.yticks(np.arange(0,50000, 4000))\n",
    "\n",
    "ax.grid(True)\n",
    "fig.tight_layout()\n",
    "\n",
    "plt.show()\n"
   ]
  },
  {
   "cell_type": "markdown",
   "metadata": {},
   "source": [
    "Observing the curve in the plot above, we see that this particular corpus obeys Zipf's Law."
   ]
  },
  {
   "cell_type": "markdown",
   "metadata": {},
   "source": [
    "**(c)** What are the **20 most common words** in the corpus and how often do they occur? What is the 50th most common word, the 100th and the 1000th and how often do they occur?"
   ]
  },
  {
   "cell_type": "code",
   "execution_count": 4,
   "metadata": {},
   "outputs": [
    {
     "name": "stdout",
     "output_type": "stream",
     "text": [
      "The 20 most common words in the corpus with their occurence frequency and sorted with ascending order are: \n",
      "[(',|,', 48310), ('the|DT', 40831), ('.|.', 38798), ('of|IN', 22778), ('to|TO', 21676), ('a|DT', 19151), ('and|CC', 15901), ('in|IN', 14852), (\"'s|POS\", 8023), ('for|IN', 7907), ('$|$', 7125), ('is|VBZ', 6891), ('The|DT', 6753), ('said|VBD', 5476), ('on|IN', 4965), ('%|NN', 4866), ('that|IN', 4719), ('it|PRP', 4639), ('by|IN', 4438), ('from|IN', 4437), ('million|CD', 4355), ('at|IN', 4312), ('with|IN', 4210), ('Mr.|NNP', 4147), ('was|VBD', 3874), ('be|VB', 3687), ('are|VBP', 3661), ('its|PRP$', 3563), ('as|IN', 3483), ('has|VBZ', 3289), (\"n't|RB\", 3211), ('an|DT', 3125), ('will|MD', 3034), ('he|PRP', 2646), ('or|CC', 2489), ('company|NN', 2457), ('year|NN', 2220), ('which|WDT', 2197), ('would|MD', 2160), ('says|VBZ', 2001), ('that|WDT', 1974), ('they|PRP', 1951), ('have|VBP', 1933), ('were|VBD', 1900), ('this|DT', 1885), ('market|NN', 1843), ('billion|CD', 1780), ('But|CC', 1740), ('In|IN', 1729), ('his|PRP$', 1688)]\n",
      "-------------------------------------\n",
      "The 50th most common word in the corpus with its occurence frequency is : \n",
      "his|PRP$ 1688\n",
      "\n",
      "The 100th most common word in the corpus with its occurence frequency is  : \n",
      "companies|NNS 817\n",
      "\n",
      "The 1000th most common word in the corpus with its occurence frequency is  : \n",
      "pilots|NNS 106\n",
      "\n"
     ]
    }
   ],
   "source": [
    "print(\"The 20 most common words in the corpus with their occurence frequency and sorted with ascending order are: \")\n",
    "print(cnt.most_common(50))\n",
    "print(\"-------------------------------------\")\n",
    "print(\"The 50th most common word in the corpus with its occurence frequency is : \")\n",
    "print(str(wordRanked[49]) +\" \"+ str(counts[49]) + \"\\n\")\n",
    "print(\"The 100th most common word in the corpus with its occurence frequency is  : \")\n",
    "print(str(wordRanked[99]) +\" \"+ str(counts[99]) + \"\\n\")\n",
    "print(\"The 1000th most common word in the corpus with its occurence frequency is  : \")\n",
    "print(str(wordRanked[999]) +\" \"+ str(counts[999]) + \"\\n\")"
   ]
  },
  {
   "cell_type": "markdown",
   "metadata": {},
   "source": [
    "**(d)** How many different Part-of-speech tags are present in the corpus?"
   ]
  },
  {
   "cell_type": "code",
   "execution_count": 5,
   "metadata": {
    "scrolled": true
   },
   "outputs": [
    {
     "name": "stdout",
     "output_type": "stream",
     "text": [
      "The number of differnet Part-of-speech tags that are present in the corpus is : 48\n"
     ]
    }
   ],
   "source": [
    "posList = []\n",
    "for word in wordRanked:\n",
    "    posList.append(word.split(\"|\",1)[1])\n",
    "    \n",
    "cnt2 = Counter()\n",
    "for pos in posList:\n",
    "    cnt2[pos] += 1\n",
    "    \n",
    "print(\"The number of differnet Part-of-speech tags that are present in the corpus is :\", len(cnt2))"
   ]
  },
  {
   "cell_type": "markdown",
   "metadata": {},
   "source": [
    "**(e)** Print a list of the **10 most commonly occurring POS tags** in the data. For each of these POS tags, what are the **3 most common words** that belong to that class?"
   ]
  },
  {
   "cell_type": "code",
   "execution_count": 6,
   "metadata": {},
   "outputs": [
    {
     "name": "stdout",
     "output_type": "stream",
     "text": [
      "The 10 most commonly occurring POS tags in the data are :  [('NNP', 11346), ('NN', 9509), ('JJ', 8042), ('NNS', 4950), ('CD', 4734), ('VBN', 2146), ('VB', 2101), ('VBG', 2033), ('VBD', 1618), ('RB', 1335)]\n",
      "\n",
      "Pos tag : NNP has as most popular words: \n",
      "Mr.\n",
      "U.S.\n",
      "Corp.\n",
      "\n",
      "Pos tag : NN has as most popular words: \n",
      "%\n",
      "company\n",
      "year\n",
      "\n",
      "Pos tag : JJ has as most popular words: \n",
      "new\n",
      "other\n",
      "last\n",
      "\n",
      "Pos tag : NNS has as most popular words: \n",
      "years\n",
      "shares\n",
      "sales\n",
      "\n",
      "Pos tag : CD has as most popular words: \n",
      "million\n",
      "billion\n",
      "one\n",
      "\n",
      "Pos tag : VBN has as most popular words: \n",
      "been\n",
      "expected\n",
      "made\n",
      "\n",
      "Pos tag : VB has as most popular words: \n",
      "be\n",
      "have\n",
      "make\n",
      "\n",
      "Pos tag : VBG has as most popular words: \n",
      "being\n",
      "including\n",
      "according\n",
      "\n",
      "Pos tag : VBD has as most popular words: \n",
      "said\n",
      "was\n",
      "were\n",
      "\n",
      "Pos tag : RB has as most popular words: \n",
      "n't\n",
      "also\n",
      "not\n"
     ]
    }
   ],
   "source": [
    "print(\"The 10 most commonly occurring POS tags in the data are : \", cnt2.most_common(10))\n",
    "for comb in cnt2.most_common(10):\n",
    "    tag = comb[0]\n",
    "    i = 0\n",
    "    print(\"\\nPos tag : \" + tag +\" has as most popular words: \")\n",
    "    for word in wordRanked:\n",
    "        if(word.split(\"|\",1)[1] == tag):\n",
    "            print(word.split(\"|\",1)[0])\n",
    "            i +=1\n",
    "            if(i==3):\n",
    "                break"
   ]
  },
  {
   "cell_type": "markdown",
   "metadata": {},
   "source": [
    "**(f)** A single word may have several POS-tags. For example, *record* can be a both a **noun** *(buy a record)* or a **verb** *(record a lecture)*. This make POS-tags extremely useful for **disambiguation**.\n",
    "\n",
    "What percentage of the words in the vocabulary is **ambiguous**? (i.e. have more than one POS tag?) What are the 10 most frequent combinations of POS tags in the case of ambitguity? Which words are **most ambiguous**? Give some of them."
   ]
  },
  {
   "cell_type": "code",
   "execution_count": 7,
   "metadata": {
    "scrolled": true
   },
   "outputs": [
    {
     "name": "stdout",
     "output_type": "stream",
     "text": [
      "The total number of ambiguous words is :  5955\n",
      "The percentage of the ambiguous words is :  11.53108843405689 %\n",
      "----------------------------\n",
      "The 10 most frequent combinations of POS tags in the case of ambitguity are :  [('NNP-NN', 422), ('VBN-VBD', 407), ('JJ-NN', 406), ('VBD-VBN', 365), ('VB-VBP', 304), ('NN-VB', 271), ('NNS-VBZ', 266), ('NN-JJ', 256), ('VBG-NN', 173), ('NN-VBG', 142)]\n",
      "----------------------------\n",
      "The 5 most ambiguous words are :  [('many', 7), ('down', 7), ('set', 7), ('open', 7), ('in', 6)]\n"
     ]
    }
   ],
   "source": [
    "helper = []\n",
    "ambiguous =[]\n",
    "for word in wordRanked:# keep only the words without pos, if a word had two pos now it will have 2 instances\n",
    "    helper.append(word.split(\"|\",1)[0])\n",
    "cnt3 = Counter()\n",
    "for word in helper:\n",
    "    cnt3[word] += 1\n",
    "for word in helper:\n",
    "    if((cnt3[word] >= 2 )& (word not in ambiguous)):\n",
    "        ambiguous.append(word)\n",
    "    \n",
    "print(\"The total number of ambiguous words is : \",len(ambiguous))\n",
    "print(\"The percentage of the ambiguous words is : \",(len(ambiguous)/len(wordRanked))*100, \"%\")\n",
    "print(\"----------------------------\")\n",
    "ambigiousPosTags = []\n",
    "for ambWord in ambiguous:\n",
    "    tag =\"\"\n",
    "    for word in wordRanked:\n",
    "        if( ambWord == word.split(\"|\",1)[0]):\n",
    "            tag = tag + word.split(\"|\",1)[1] +\"-\"\n",
    "    tag = tag[:-1]\n",
    "    ambigiousPosTags.append(tag)\n",
    "\n",
    "cnt4 = Counter()\n",
    "for tg in ambigiousPosTags:\n",
    "    cnt4[tg] +=1\n",
    "\n",
    "print(\"The 10 most frequent combinations of POS tags in the case of ambitguity are : \", cnt4.most_common(10))\n",
    "print(\"----------------------------\")\n",
    "print(\"The 5 most ambiguous words are : \", cnt3.most_common(5))"
   ]
  },
  {
   "cell_type": "markdown",
   "metadata": {},
   "source": [
    "**(g)**  Print some of these words with their multiple POS-tags. Do you **understand the ambiguity**? Use figure 10.1 mentioned above to interpret the POS-tags."
   ]
  },
  {
   "cell_type": "code",
   "execution_count": 8,
   "metadata": {},
   "outputs": [
    {
     "name": "stdout",
     "output_type": "stream",
     "text": [
      "-------------------------------\n",
      "Ambiguous word with its pos-tags\n",
      "open\n",
      "JJ\n",
      "VB\n",
      "VBP\n",
      "RB\n",
      "NN\n",
      "RP\n",
      "VBZ\n",
      "-------------------------------\n",
      "Ambiguous word with its pos-tags\n",
      "down\n",
      "RB\n",
      "RP\n",
      "IN\n",
      "JJ\n",
      "NN\n",
      "VBP\n",
      "RBR\n",
      "-------------------------------\n",
      "Ambiguous word with its pos-tags\n",
      "set\n",
      "VBN\n",
      "VBD\n",
      "VB\n",
      "NN\n",
      "VBP\n",
      "VBZ\n",
      "JJ\n"
     ]
    }
   ],
   "source": [
    "ls = ['open', 'down','set']\n",
    "for i in ls:\n",
    "    print(\"-------------------------------\")\n",
    "    print(\"Ambiguous word with its pos-tags\")\n",
    "    print(i)\n",
    "    for word in wordRanked:\n",
    "        if i == word.split(\"|\",1)[0]:\n",
    "            print(word.split(\"|\",1)[1])"
   ]
  },
  {
   "cell_type": "markdown",
   "metadata": {},
   "source": [
    "Above, three ambiguous words with their post tags are presented. Let's examine the word \"open\". This word can be used in different cases as:\n",
    "\n",
    "1) an adjective(JJ) : \"The open door.\"\n",
    "\n",
    "2) a verb(VB) : \"Open the door.\"\n",
    "\n",
    "3) and many more..\n",
    "\n",
    "So we can understand that many words like \"open\" can be interpreted as different parts of speech according to the situation."
   ]
  },
  {
   "cell_type": "markdown",
   "metadata": {},
   "source": [
    "**(h)** Ambiguous words do not account for a great percentage of the vocabulary. Yet they are among the most commonly occuring words of the English language. What **percentage of the dataset is ambiguous**?"
   ]
  },
  {
   "cell_type": "code",
   "execution_count": 9,
   "metadata": {},
   "outputs": [
    {
     "name": "stdout",
     "output_type": "stream",
     "text": [
      "The percentage of the dataset that is ambiguous is :  55.079005800643756 %\n"
     ]
    }
   ],
   "source": [
    "numberAmbInDataset = 0\n",
    "for word in toBeVocabNoPos:\n",
    "    if word in ambiguous:\n",
    "        numberAmbInDataset = numberAmbInDataset + 1\n",
    "print(\"The percentage of the dataset that is ambiguous is : \",(numberAmbInDataset/ len(toBeVocabNoPos))*100,\"%\")\n",
    "        "
   ]
  },
  {
   "cell_type": "markdown",
   "metadata": {},
   "source": [
    "## Exercise 1.2 \n",
    "(10 points, 5 per subquestion)"
   ]
  },
  {
   "cell_type": "markdown",
   "metadata": {},
   "source": [
    "You are also provided with another file called **sec00.gold.tagged**. \n",
    "Section 00 of the Penn Treebank is typically used as development data."
   ]
  },
  {
   "cell_type": "markdown",
   "metadata": {},
   "source": [
    "**(a)** How many **unseen words** are present in the development data (i.e., words that have not occurred in the training data)?"
   ]
  },
  {
   "cell_type": "code",
   "execution_count": 11,
   "metadata": {
    "scrolled": false
   },
   "outputs": [
    {
     "name": "stdout",
     "output_type": "stream",
     "text": [
      "The number of unseen words with POS is :  1982\n",
      "The number of unseen words without POS is :  1728\n"
     ]
    }
   ],
   "source": [
    "from collections import Counter\n",
    "file1 = open('sec00.gold.tagged', 'r')\n",
    "toBeVocabDev = []#a list to contain all the words in the corpus with  pos\n",
    "toBeVocabNoPosDev = [] #a list to contain all the words in the corpus with no pos\n",
    "\n",
    "for line in file1:\n",
    "    for word in line.split():\n",
    "        toBeVocabDev.append(word)# append any word with pos\n",
    "        toBeVocabNoPosDev.append(word.split(\"|\")[0])# append any word no pos\n",
    "\n",
    "counterPos = 0\n",
    "wordRankedDev = []\n",
    "for i in range(len(toBeVocabDev)):\n",
    "    if not(toBeVocabDev[i] in wordRanked):\n",
    "        counterPos = counterPos + 1\n",
    "        wordRankedDev.append(toBeVocabDev[i])\n",
    "print(\"The number of unseen words with POS is : \", counterPos)\n",
    "\n",
    "\n",
    "wordRankedNoPos =[]\n",
    "for word in wordRanked:\n",
    "    onlyWord = word.split(\"|\")[0]\n",
    "    wordRankedNoPos.append(onlyWord)\n",
    "    \n",
    "counterNoPos = 0\n",
    "for i in range(len(toBeVocabNoPosDev)):\n",
    "    if not(toBeVocabNoPosDev[i] in wordRankedNoPos):\n",
    "        counterNoPos = counterNoPos + 1\n",
    "print(\"The number of unseen words without POS is : \", counterNoPos)"
   ]
  },
  {
   "cell_type": "markdown",
   "metadata": {},
   "source": [
    "**(b)** What are the three **POS tag categories** that the most **unseen words** belong to?"
   ]
  },
  {
   "cell_type": "code",
   "execution_count": 12,
   "metadata": {
    "scrolled": true
   },
   "outputs": [
    {
     "name": "stdout",
     "output_type": "stream",
     "text": [
      "[('NNP', 858), ('JJ', 297), ('NN', 250)]\n"
     ]
    }
   ],
   "source": [
    "tagsDev = []\n",
    "for word in wordRankedDev:\n",
    "    tagsDev.append(word.split(\"|\",1)[1])\n",
    "    \n",
    "cnt7 = Counter()\n",
    "for tg in tagsDev:\n",
    "    cnt7[tg] += 1\n",
    "\n",
    "print(cnt7.most_common(3))\n",
    "\n",
    "    "
   ]
  },
  {
   "cell_type": "markdown",
   "metadata": {},
   "source": [
    "The POS tag categories with the most unseen words are: NNP, JJ and NN"
   ]
  },
  {
   "cell_type": "markdown",
   "metadata": {},
   "source": [
    "# 2. Language Models\n",
    "\n",
    "This part of the lab will be covered next week. If you have prior exposure to NLP, go ahead and finish this part! If you don't, start anyway, and this part will be clear after the lecture. \n",
    "\n",
    "Reference **chapter 3** of JM3 *Language Modeling with N-Grams*. \n",
    "\n",
    "----------\n",
    "\n",
    "Models that assign **probabilities** to **sequences of words** are called language **language\n",
    "modelels** or **LMs**. The simplest model that assigns probabilities to sentences and sequences of words is the **N-gram** model.\n",
    "\n",
    "Recall that an *N*-gram language model uses **conditional probabilities** of the form\n",
    "    \n",
    "$$P(w_k \\mid w_{k-N+1} \\dots w_{k-1})$$\n",
    "\n",
    "to **approximate** the full **joint probability**\n",
    "\n",
    "$$P(w_1 \\dots w_n)$$\n",
    "\n",
    "of a sequence of words $w_1 \\dots w_n$.\n",
    "\n",
    "The easiest way of obtaining estimates for the probabilities $P(w_k \\mid w_{k-N+1} \\dots w_{k-1})$ is to use the **maximum likelihood estimate** or **MLE**, a widely used statistical estimation method (https://en.wikipedia.org/wiki/Maximum_likelihood_estimation). You count and normalize:\n",
    "\n",
    "$$P_{MLE}(w_k \\mid w_{k-N+1} \\dots w_{k-1}) = \\frac{C(w_{k-N+1} \\dots w_{k-1} w_k)}{C(w_{k-N+1} \\dots w_{k-1})}.$$\n",
    "\n",
    "\n",
    "## Exercise 2.1 \n",
    "(25 points, 15 and 10 for a and b)\n",
    "\n",
    "**(a) ** Complete the function `train_ngram` so that you can train a count-based $N$-gram language model on the data found in `data/ted-train.txt` and train this for $N=2,3,4$. \n",
    "\n",
    "**(b) ** Extend the function above so that it accepts a parameter `k` for optional add-$k$ smoothing. \n",
    "\n",
    "**[Datastructure hint]** If you store the smoothed language in a naive manner (that is, to store *all* the numbers separately) your datastructure will get huge! If $V$ is the vocabulary then the smoothed bigram model assigns probabilities to $|V|^2$ entries. If $|V|$ is around 80k, the naive way requires you to store more than 64 billion floats. Yet almost all of these are actually just $P(w_n|w_{n-1}) = \\frac{k}{N + k|V|}$, with $k$ the value with which you smooth and $N=C(w_{n-1})$. Think about how you use this fact to make your model work in practice."
   ]
  },
  {
   "cell_type": "markdown",
   "metadata": {},
   "source": [
    "**[Python hint]** The `collections` library has another useful datastructure: the `defaultdict`. Some example uses:"
   ]
  },
  {
   "cell_type": "code",
   "execution_count": 2,
   "metadata": {
    "scrolled": true
   },
   "outputs": [
    {
     "data": {
      "text/plain": [
       "0.0"
      ]
     },
     "execution_count": 2,
     "metadata": {},
     "output_type": "execute_result"
    }
   ],
   "source": [
    "from collections import defaultdict\n",
    "\n",
    "d = defaultdict(float)\n",
    "d[\"new key\"]"
   ]
  },
  {
   "cell_type": "markdown",
   "metadata": {},
   "source": [
    "Clever use of a `defaultdict` can be the solution to the problem of data-storing in a smoothing $N$-gram pointed out above:\n",
    "    \n",
    "    ngram = defaultdict(lambda: k/(N+kV), ngram)"
   ]
  },
  {
   "cell_type": "markdown",
   "metadata": {},
   "source": [
    "The following function is given:"
   ]
  },
  {
   "cell_type": "code",
   "execution_count": 3,
   "metadata": {},
   "outputs": [],
   "source": [
    "import numpy as np\n",
    "from collections import Counter\n",
    "train_file = \"ted-train.txt\"\n",
    "\n",
    "\n",
    "def read(fname, max_lines=np.inf):\n",
    "    \"\"\"\n",
    "    Reads in the data in fname and returns it as\n",
    "    one long list of words. Also returns a vocabulary in\n",
    "    the form of a word2index and index2word dictionary.\n",
    "    \"\"\"\n",
    "    data = []\n",
    "    # w2i will automatically keep a counter to asign to new words\n",
    "    w2i = defaultdict(lambda: len(w2i))\n",
    "    i2w = dict()\n",
    "    start = \"<s>\"\n",
    "    end = \"</s>\"\n",
    "    \n",
    "    with open(fname, \"r\", encoding = 'UTF-8') as fh:\n",
    "        for k, line in enumerate(fh):\n",
    "            if k > max_lines:\n",
    "                break\n",
    "            words = line.strip().split()\n",
    "            # assign an index to each word\n",
    "            for w in words:\n",
    "                i2w[w2i[w]] = w # trick\n",
    "            \n",
    "            sent = [start] + words + [end]\n",
    "            data.append(sent)\n",
    "\n",
    "    return data, w2i, i2w"
   ]
  },
  {
   "cell_type": "code",
   "execution_count": 4,
   "metadata": {},
   "outputs": [],
   "source": [
    "def train_ngram(data, N, k=0):\n",
    "    \"\"\"\n",
    "    Trains an n-gram language model with optional add-k smoothing\n",
    "    and additionaly returns the unigram model\n",
    "    \n",
    "    :param data: text-data as returned by read\n",
    "    :param N: (N>1) the order of the ngram e.g. N=2 gives a bigram\n",
    "    :param k: optional add-k smoothing\n",
    "    :returns: ngram and unigram\n",
    "    \"\"\"\n",
    "    data2 = []\n",
    "    for l in data:\n",
    "        for word in l:\n",
    "            data2.append(word)\n",
    "    data = data2\n",
    "    unigramCout = Counter() # default prob is 0.0 \n",
    "    for word in data:\n",
    "        unigramCout[word] +=1\n",
    "    ngramCount = defaultdict(Counter) # ngram[history][word] = #(history,word)\n",
    "    vocab_len = len(unigramCout)\n",
    "    ngram = defaultdict(lambda:defaultdict(lambda: k/(N+k*vocab_len)))  \n",
    "    unigram = defaultdict(lambda: k/(N+k*vocab_len))\n",
    "    #for unigram\n",
    "    uniDiv = sum(unigramCout.values())\n",
    "    #for k-smoothing\n",
    "    for word in data:\n",
    "        unigram[word] = (unigramCout[word] + k)/(uniDiv+N +k*vocab_len)\n",
    "    if (N == 2):\n",
    "        first=data[0]\n",
    "        for second in data[1:]:\n",
    "            ngramCount[first][second] += 1\n",
    "            first = second \n",
    "        ngram_counts = ngramCount\n",
    "        first = data[0]\n",
    "        for second in data[1:]:\n",
    "            ngram[first][second] = (ngramCount[first][second] + k)/(sum(ngramCount[first].values()) +N+ k*vocab_len)\n",
    "            first = second\n",
    "    elif(N == 3):\n",
    "        first=data[0]\n",
    "        second = data[1]\n",
    "        for third in data[2:]:\n",
    "            ngramCount[first+\" \"+second][third] += 1\n",
    "            first = second\n",
    "            second = third\n",
    "        ngram_counts = ngramCount\n",
    "        first=data[0]\n",
    "        second = data[1]\n",
    "        for third in data[2:]:\n",
    "            ngram[first+\" \"+second][third] = (ngramCount[first+\" \"+second][third] + k)/(sum(ngramCount[first+\" \"+second].values()) + N + k*vocab_len)\n",
    "            first = second\n",
    "            second = third\n",
    "        \n",
    "    elif(N == 4):\n",
    "        first=data[0]\n",
    "        second = data[1]\n",
    "        third = data[2]\n",
    "        for fourth in data[3:]:\n",
    "            ngramCount[first+\" \"+second+\" \"+third][fourth] += 1\n",
    "            first = second\n",
    "            second = third\n",
    "            third = fourth\n",
    "        ngram_counts = ngramCount\n",
    "        first=data[0]\n",
    "        second = data[1]\n",
    "        third = data[2]\n",
    "        for fourth in data[3:]:\n",
    "            ngram[first+\" \"+second+\" \"+third][fourth] = (ngramCount[first+\" \"+second+\" \"+third][fourth] + k)/(sum(ngramCount[first+\" \"+second+\" \"+third].values()) + N+ k*vocab_len)\n",
    "            first = second\n",
    "            second = third\n",
    "            third = fourth  \n",
    "    return ngram, unigram\n",
    "\n",
    "data, w2i, i2w = read(train_file)\n",
    "bigram, unigram = train_ngram(data, N=2, k=0)\n",
    "trigram_sm, unigram = train_ngram(data, N=3, k=1)\n",
    "trigram, unigram = train_ngram(data, N=3, k=0)\n",
    "bigram_smoothed1, unigram_smoothed1 = train_ngram(data, N=2, k=1)\n",
    "quadgram, unigram = train_ngram(data, N=4, k=0)"
   ]
  },
  {
   "cell_type": "code",
   "execution_count": 16,
   "metadata": {},
   "outputs": [],
   "source": [
    "bigram_smoothed3, unigram_smoothed3 = train_ngram(data, N=2, k=0.05)\n",
    "bigram_smoothed4, unigram_smoothed4 = train_ngram(data, N=2, k=0.01)"
   ]
  },
  {
   "cell_type": "code",
   "execution_count": 5,
   "metadata": {},
   "outputs": [],
   "source": [
    "bigram_smoothed5, unigram_smoothed5 = train_ngram(data, N=2, k=0.005)\n",
    "bigram_smoothed6, unigram_smoothed6 = train_ngram(data, N=2, k=0.0008)"
   ]
  },
  {
   "cell_type": "markdown",
   "metadata": {},
   "source": [
    "## Exercise 2.2 (5 points)\n",
    "\n",
    "You can use an *N*-gram language model to **generate text**. The higher the order *N* the better your model will be able to catch the long-range dependecies that occur in actual sentences and the better your changes are at generating sensible text. But beware: **sparsity** of language data will quickly cause your model to reproduce entire lines from your training data; in such cases only one $w_k$ was observed for the histories $w_{k-N+1}\\dots w_{k-1}$ in the entire training-set.\n",
    "\n",
    "**Complete** the function `generate_sent`. It takes a language model `lm` and an order `N` and should generate a sentence by **sampling** from the language model.\n",
    "\n",
    "**[Hint]** You can use the method of [inverse transform sampling](https://en.wikipedia.org/wiki/Inverse_transform_sampling) to generate a sample from a **categorical distribution**, $p_1\\dots p_k$ such that $p_i \\geq 0$ and $\\sum_{i=1}^k p_i = 1$, as follows:"
   ]
  },
  {
   "cell_type": "code",
   "execution_count": 19,
   "metadata": {},
   "outputs": [
    {
     "name": "stdout",
     "output_type": "stream",
     "text": [
      "2\n",
      "Counter({2: 478, 3: 215, 1: 215, None: 92})\n"
     ]
    }
   ],
   "source": [
    "from random import random\n",
    "\n",
    "P = [0.2,0.5,0.2,0.1]\n",
    "\n",
    "def sample(P):\n",
    "    u = random() # uniformly random number between 0 and 1\n",
    "    p = 0\n",
    "    for i, p_i in enumerate(P):\n",
    "        if p > u: \n",
    "            return i # the first i s.t. p1 + ... + pi > u\n",
    "        p += p_i\n",
    "        \n",
    "print(sample(P))\n",
    "\n",
    "print(Counter([sample(P) for i in range(1000)])) # check to see if the law of large numbers is still true"
   ]
  },
  {
   "cell_type": "markdown",
   "metadata": {},
   "source": [
    "Inverse transform sampling in the words of Jurafsky and Martin:\n",
    "\n",
    "> Imagine all the words of the English language covering the probability space\n",
    "between 0 and 1, each word covering an interval proportional to its frequency. We\n",
    "choose a random value between 0 and 1 and print the word whose interval includes\n",
    "this chosen value.\n",
    "\n",
    "(J&M, section 4.3)"
   ]
  },
  {
   "cell_type": "code",
   "execution_count": 57,
   "metadata": {},
   "outputs": [],
   "source": [
    "from random import choice\n",
    "def generate_sent(lm, N):\n",
    "    sent = []\n",
    "    word = \"<s>\"\n",
    "    if( N==1):\n",
    "        sent.append(word)\n",
    "        seconds=list(lm.keys())\n",
    "        probs=list(lm.values())\n",
    "        while(word!=\"</s>\"):\n",
    "            k = sample(probs)\n",
    "            if k==None:\n",
    "                word = \"</s>\"\n",
    "            else:\n",
    "                word = seconds[k]\n",
    "            sent.append(word)\n",
    "    elif( N==2):\n",
    "        sent.append(word)\n",
    "        while(word!=\"</s>\"):\n",
    "            seconds=list(lm[word].keys())\n",
    "            probs=list(lm[word].values())\n",
    "            k = sample(probs)\n",
    "            if k==None:\n",
    "                word = \"</s>\"\n",
    "            else:\n",
    "                word = seconds[k]\n",
    "            sent.append(word)\n",
    "    elif( N==3):\n",
    "        sent.append(word)\n",
    "        help1 = []#all words following <s> \n",
    "        for k in lm.keys(): \n",
    "            if(k.split(\" \",1)[0]==\"<s>\"):\n",
    "                help1.append(k.split(\" \",1)[1])# append them\n",
    "        startSum = 0 #calculate sum of counts for every comp starting with <s>\n",
    "        for w2 in help1:\n",
    "            startSum += sum(lm[word+\" \"+w2].values())\n",
    "        probs =[sum(lm[word+\" \"+w2].values())/startSum for w2 in help1]\n",
    "        word2 = help1[sample(probs)]\n",
    "        #word2=choice(help1)\n",
    "        sent.append(word2)\n",
    "        while(word2!=\"</s>\"):\n",
    "            seconds=list(lm[word+ \" \"+word2].keys())\n",
    "            probs=list(lm[word+ \" \"+word2].values())\n",
    "            word = word2\n",
    "            k = sample(probs)\n",
    "            if k==None:\n",
    "                word2 = \"</s>\"\n",
    "            else:\n",
    "                word2 = seconds[k]\n",
    "            sent.append(word2)\n",
    "    elif (N==4):\n",
    "        sent.append(word)\n",
    "        help1 = []\n",
    "        for k in lm.keys(): \n",
    "            if(k.split(\" \",2)[0]==\"<s>\"):\n",
    "                help1.append(k.split(\" \",1)[1])\n",
    "        help2=choice(help1)\n",
    "        word2, word3 = help2.split(\" \",1)[0], help2.split(\" \",1)[1]\n",
    "        sent.append(word2)\n",
    "        sent.append(word3)\n",
    "        while(word3!=\"</s>\"):\n",
    "            seconds=list(lm[word+\" \"+word2+ \" \" +word3].keys())\n",
    "            probs=list(lm[word+\" \"+word2+ \" \" +word3].values())\n",
    "            word = word2\n",
    "            word2 = word3\n",
    "            k = sample(probs)\n",
    "            if k==None:\n",
    "                word3 = \"</s>\"\n",
    "            else:\n",
    "                word3 = seconds[k]\n",
    "            sent.append(word3)\n",
    "    return \" \".join(sent)\n"
   ]
  },
  {
   "cell_type": "code",
   "execution_count": 58,
   "metadata": {},
   "outputs": [
    {
     "name": "stdout",
     "output_type": "stream",
     "text": [
      "<s> Many were them know as well trained monkeys just heard dut-dut-dut-dut-duh </s>\n",
      "<s> Both songs </s>\n"
     ]
    }
   ],
   "source": [
    "print(generate_sent(bigram,2))\n",
    "print(generate_sent(quadgram,4))"
   ]
  },
  {
   "cell_type": "markdown",
   "metadata": {},
   "source": [
    "### [Extra]\n",
    "\n",
    "For how many of the histories $w_{k-N+1}\\dots w_{k-1}$ is the number of continuations $w_n$ equal to **one**? Calculate the percentage of such cases for the different orders *N*.\n",
    "\n",
    "And which history has the **most possible continuations**?"
   ]
  },
  {
   "cell_type": "code",
   "execution_count": 9,
   "metadata": {},
   "outputs": [],
   "source": [
    "bi_comps_cont_sum = defaultdict(float)\n",
    "bi_comps_most_cont = defaultdict(float)\n",
    "tri_comps_cont_sum = defaultdict(float)\n",
    "tri_comps_most_cont = defaultdict(float)\n",
    "q_comps_cont_sum = defaultdict(float)\n",
    "q_comps_most_cont = defaultdict(float)\n",
    "for l in data:\n",
    "    words = l\n",
    "    for i in range(len(words)):\n",
    "        if i>0:  #n=2, store the sum of the values if if doesn't exist, else keep the same value\n",
    "            bi_comps_cont_sum[words[i]] = sum(bigram[words[i]].values()) if bi_comps_cont_sum[words[i]]== 0.0 else bi_comps_cont_sum[words[i]]\n",
    "            bi_comps_most_cont[words[i]] = len(bigram[words[i]]) if bi_comps_most_cont[words[i]] ==0.0 else bi_comps_most_cont[words[i]] \n",
    "        if i>1:#n=3, store the sum of the values if if doesn't exist, else keep the same value\n",
    "            tri_comps_cont_sum[words[i-1]+ \" \" + words[i]] = sum(trigram[words[i-1]+ \" \" + words[i]].values()) if tri_comps_cont_sum[words[i-1]+ \" \" + words[i]]== 0.0 else tri_comps_cont_sum[words[i-1]+ \" \" + words[i]]\n",
    "            tri_comps_most_cont[words[i-1]+ \" \" + words[i]] = len(trigram[words[i-1]+ \" \" + words[i]]) if tri_comps_most_cont[words[i-1]+ \" \" + words[i]] ==0.0 else tri_comps_most_cont[words[i-1]+ \" \" + words[i]] \n",
    "        if i>2:#n=4, store the sum of the values if if doesn't exist, else keep the same value\n",
    "            q_comps_cont_sum[words[i-2]+\" \"+words[i-1]+ \" \" + words[i]] = sum(quadgram[words[i-2]+\" \"+words[i-1]+ \" \" + words[i]].values()) if q_comps_cont_sum[words[i-2]+\" \"+words[i-1]+ \" \" + words[i]]== 0.0 else q_comps_cont_sum[words[i-2]+\" \"+words[i-1]+ \" \" + words[i]]\n",
    "            q_comps_most_cont[words[i-2]+\" \"+words[i-1]+ \" \" + words[i]]= len(quadgram[words[i-2]+\" \"+words[i-1]+ \" \" + words[i]]) if q_comps_most_cont[words[i-2]+\" \"+words[i-1]+ \" \" + words[i]] ==0.0 else q_comps_most_cont[words[i-2]+\" \"+words[i-1]+ \" \" + words[i]]"
   ]
  },
  {
   "cell_type": "code",
   "execution_count": 24,
   "metadata": {},
   "outputs": [
    {
     "name": "stdout",
     "output_type": "stream",
     "text": [
      "Bigram:0.0\n",
      "trigram:0.0\n",
      "qgram:0.0\n",
      "Bigram history with most continuations is 'the' with 19019\n",
      "Trigram history with most continuations is 'of the' with 5437\n",
      "Quadram history with most continuations is ', and the' with 1324\n"
     ]
    }
   ],
   "source": [
    "#for N=2\n",
    "bicount =0\n",
    "bimax = 0\n",
    "maxb_comp = 'Null'\n",
    "for k in bi_comps_cont_sum.keys():\n",
    "    if bi_comps_cont_sum[k]==1.0:\n",
    "        print(bi_comps_cont_sum[k])\n",
    "        bicount +=1\n",
    "    if bimax < bi_comps_most_cont[k]:\n",
    "        bimax = bi_comps_most_cont[k]\n",
    "        maxb_comp = k\n",
    "#for N=3\n",
    "tricount =0\n",
    "trimax = 0\n",
    "maxt_comp = 'Null'\n",
    "for k in tri_comps_cont_sum.keys():\n",
    "    if tri_comps_cont_sum[k]==1.0:\n",
    "        tricount +=1\n",
    "    if trimax < tri_comps_most_cont[k]:\n",
    "        trimax = tri_comps_most_cont[k]\n",
    "        maxt_comp = k\n",
    "#for N=4\n",
    "qcount =0\n",
    "qmax = 0\n",
    "maxq_comp = 'Null'\n",
    "for k in q_comps_cont_sum.keys():\n",
    "    if q_comps_cont_sum[k]==1.0:\n",
    "        qcount +=1\n",
    "    if qmax < q_comps_most_cont[k]:\n",
    "        qmax = q_comps_most_cont[k]\n",
    "        maxq_comp = k\n",
    "        \n",
    "#prints for 1 question        \n",
    "print(\"Bigram:\" + str(bicount/len(bi_comps_cont_sum.keys())))\n",
    "print(\"trigram:\"+ str(tricount/len(tri_comps_cont_sum.keys())))\n",
    "print(\"qgram:\"+ str(qcount/len(q_comps_cont_sum.keys())))\n",
    "\n",
    "#prints for 2 question\n",
    "print(\"Bigram history with most continuations is '\"+ maxb_comp +\"' with \"+ str(bimax))\n",
    "print(\"Trigram history with most continuations is '\"+ maxt_comp +\"' with \"+ str(trimax))\n",
    "print(\"Quadram history with most continuations is '\"+ maxq_comp +\"' with \"+ str(qmax))\n",
    "\n"
   ]
  },
  {
   "cell_type": "raw",
   "metadata": {
    "collapsed": true
   },
   "source": [
    "Unfurtounately, no N-gram had a probability that was summed up to 1, but the majority of them had sums equal to 0.99999556. The results are placed below for both questions.\n",
    "1.\n",
    "Bigram:0.0\n",
    "trigram:0.0\n",
    "qgram:0.0\n",
    "2.\n",
    "Bigram history with most continuations is 'the' with 19019\n",
    "Trigram history with most continuations is 'of the' with 5437\n",
    "Quadram history with most continuations is ', and the' with 1324\n"
   ]
  },
  {
   "cell_type": "markdown",
   "metadata": {},
   "source": [
    "## Excercise 2.3 (5 points)\n",
    "\n",
    "Let $V$ denote our vocabulary. Recall that for any $w$ in $V$ `bigram[w]` defines a conditional probability $p(v|w)$ over $v$ in $V$. In the case of an **unsmoothed bigram**, $p(v|w) = 0$ for most $v\\in V$, whereas in the **smoothed bigram** smoothing took care that $p(v|w) \\geq 0$ for *all* $v$.\n",
    "\n",
    "The function `plot_bigram_dist(word, bigram, smoothbigram, k=30)` plots shows $p(v|word)$ for the `k` words $v$. One bar shows the probabilities in `bigram` and one in `smoothbigram`. \n",
    "\n",
    "**(a)** Use this function to plot the distribution for at least two words `w` and answer the questions\n",
    "* What is the effect of smoothing on the bigram distribution of frequent words? \n",
    "* What is the effect in the case of infrequent words?\n",
    "* Explain the difference between the two based on the raw counts of `w` \n",
    "\n",
    "**(b)** Now experiment with $k$ much smaller than 1 (but greater than 0!) \n",
    "* What are the effects?\n",
    "\n",
    "\n",
    "**[Hint]** Remember that add-1 smoothing turns \n",
    "$$P(w_n\\mid w_{n-1}) = \\frac{C(w_{n-1}w_{n})}{C(w_{n-1})}$$\n",
    "into\n",
    "$$P_{add-1}(w_n\\mid w_{n-1}) = \\frac{C(w_{n-1}w_{n}) + 1}{C(w_{n-1}) + |V|}.$$\n",
    "\n",
    "What happens when $C(w_{n-1})$ is relatively big (similiar in of size as $ |V| $)? And what if $C(w_{n-1})$ is small? "
   ]
  },
  {
   "cell_type": "code",
   "execution_count": 22,
   "metadata": {},
   "outputs": [],
   "source": [
    "import pandas as pd\n",
    "import seaborn as sns    \n",
    "\n",
    "def plot_bigram_dist(word, bigram, smoothbigram, k=30):\n",
    "    d = bigram[word]\n",
    "    ds = smoothbigram[word]\n",
    "    \n",
    "    # sort the probabilities\n",
    "    d_sort = sorted(d.items(), reverse=True, key=lambda t: t[1])[0:k]\n",
    "    ds_sort = sorted(ds.items(), reverse=True, key=lambda t: t[1])[0:k]\n",
    "    \n",
    "    _, probs = zip(*d_sort)\n",
    "    smooth_ws, smooth_probs = zip(*ds_sort)\n",
    "    \n",
    "    # make up for the fact that in the unsmoothed case  probs is generally less than k long\n",
    "    probs = probs + (0,) * (k-len(probs)) \n",
    "\n",
    "    w_data = pd.DataFrame({\"w\": smooth_ws * 2,\n",
    "                           \"P({}|w)\".format(word): probs + smooth_probs,\n",
    "                           \"smoothing\": [\"unsmoothed\"]*k + [\"smoothed\"]*k})\n",
    "    \n",
    "    fig, ax = plt.subplots(figsize=(10,10))\n",
    "    plt.xticks(rotation=90)\n",
    "    g = sns.barplot(ax=ax, x=\"w\", y=\"P({}|w)\".format(word), hue=\"smoothing\",\n",
    "                    data=w_data, palette=\"Blues_d\")    "
   ]
  },
  {
   "cell_type": "code",
   "execution_count": 37,
   "metadata": {},
   "outputs": [
    {
     "data": {
      "image/png": "[encoded data removed]",
      "text/plain": [
       "<Figure size 720x720 with 1 Axes>"
      ]
     },
     "metadata": {
      "needs_background": "light"
     },
     "output_type": "display_data"
    },
    {
     "data": {
      "image/png": "[encoded data removed]",
      "text/plain": [
       "<Figure size 720x720 with 1 Axes>"
      ]
     },
     "metadata": {
      "needs_background": "light"
     },
     "output_type": "display_data"
    },
    {
     "data": {
      "image/png": "[encoded data removed]",
      "text/plain": [
       "<Figure size 720x720 with 1 Axes>"
      ]
     },
     "metadata": {
      "needs_background": "light"
     },
     "output_type": "display_data"
    }
   ],
   "source": [
    "plot_bigram_dist(\"I\", bigram,bigram_smoothed1 ) #k=1\n",
    "plot_bigram_dist(\"what\", bigram,bigram_smoothed1 )\n",
    "plot_bigram_dist(\"science\", bigram,bigram_smoothed1, k=20 )"
   ]
  },
  {
   "cell_type": "code",
   "execution_count": 38,
   "metadata": {},
   "outputs": [
    {
     "data": {
      "image/png": "[encoded data removed]",
      "text/plain": [
       "<Figure size 720x720 with 1 Axes>"
      ]
     },
     "metadata": {
      "needs_background": "light"
     },
     "output_type": "display_data"
    },
    {
     "data": {
      "image/png": "[encoded data removed]",
      "text/plain": [
       "<Figure size 720x720 with 1 Axes>"
      ]
     },
     "metadata": {
      "needs_background": "light"
     },
     "output_type": "display_data"
    },
    {
     "data": {
      "image/png": "[encoded data removed]",
      "text/plain": [
       "<Figure size 720x720 with 1 Axes>"
      ]
     },
     "metadata": {
      "needs_background": "light"
     },
     "output_type": "display_data"
    }
   ],
   "source": [
    "plot_bigram_dist(\"I\", bigram,bigram_smoothed6 ) #k=0.0008\n",
    "plot_bigram_dist(\"what\", bigram,bigram_smoothed6 )\n",
    "plot_bigram_dist(\"science\", bigram,bigram_smoothed5, k=20 ) #k=0.005"
   ]
  },
  {
   "cell_type": "code",
   "execution_count": 44,
   "metadata": {},
   "outputs": [
    {
     "name": "stdout",
     "output_type": "stream",
     "text": [
      "81473 21554 1396\n"
     ]
    }
   ],
   "source": [
    "countI = 0\n",
    "countwhat = 0\n",
    "countscience = 0\n",
    "for l in data:\n",
    "    for word in l:\n",
    "        if word=='I':\n",
    "            countI+=1\n",
    "        if word=='what':\n",
    "            countwhat+=1\n",
    "        if word=='science':\n",
    "            countscience+=1\n",
    "print(countI,countwhat,countscience)"
   ]
  },
  {
   "cell_type": "markdown",
   "metadata": {},
   "source": [
    "A\n",
    "-What is the effect of smoothing on the bigram distribution of frequent words?\n",
    "    In frequent words (I, what) the smoothing process decreases the probability of the most probable next words by more than half, but it still there is a difference between their probabilities and the probabilitis assigned to the unseen words.\n",
    "    \n",
    "-What is the effect in the case of infrequent words?\n",
    "    In infrequent words (science) the smoothing process decreases the probability of the most probable next words by a significant amount and makes their probabilities almost equal to the probabilitis assigned to the unseen words.\n",
    "    \n",
    "-Explain the difference between the two based on the raw counts of w\n",
    "    The raw counts as calculated are: \"I\" = 81473, \"what\" = 21554, \"science\" = 1396. The graphs showcase that as the word becomes less frequent the smoothing effect is higher, making the probabilities of their most probable following words almost equal to the unseen words in the extreme case of science. \"I\" is the most frequent word and the smoothing affects it less than the others. \n",
    "\n",
    "B\n",
    "-What are the effects?\n",
    "    As k becomes smaller the denominator of the smoothing formula becomes less significant and the smoothing effect tends to fade. In the case of k=0.0008 the smoothing effect is almost non-existant, but with a k=0.005 we observe a slight effect on the probabilities of the most frequent words following science.\n",
    "    \n",
    "-What happens when 𝐶(𝑤𝑛−1) is relatively big (similiar in of size as |𝑉|)? And what if 𝐶(𝑤𝑛−1) is small? \n",
    "    When C(wn-1) is big and almost similar to |V| the effect of the smoothing is less significant than the cases with a very small c(wn-1), because the denominator of the big C(wn-1) is not increased dramaticaly compared to its unsmoothed value and in the case of a very small c(wn-1) the denominator becomes extremely bigger making every existing probability almost similar to the unseen ones."
   ]
  },
  {
   "cell_type": "markdown",
   "metadata": {},
   "source": [
    "\n",
    "**Recall** that if we have a sentence $w_1,\\dots,w_n$ we can write\n",
    "\n",
    "$$P(w_1\\dots w_n) = P(w_1)P(w_2|w_1) \\cdots P(w_i|w_1 \\dots w_{n-1}) \\approx P(w_1)P(w_2|w_1)\\cdots P(w_{N-1}|w_1\\dots w_{N-2})\\prod_{i=N}^{n} P(w_i|w_{i-(N-1)}\\dots w_{i-1})$$\n",
    "\n",
    "where in the last step we make an $N$-gram approximation of the full conditionals.\n",
    "\n",
    "For example, in the case of a bigram (N=2), the above expression reduces to\n",
    "\n",
    "$$P(w_1 \\dots w_n)\\approx P(w_1)\\prod_{i=2}^{n} P(w_i| w_{i-1}).$$\n",
    "\n",
    "## Exercise 2.4 (5 points)\n",
    "\n",
    "The following sentences are taken from the **training data**. Use your **unsmoothed unigram**, **bigram**, and **trigram** language model to estimate their **probabilities**:\n",
    "\n",
    "    1. Every day was about creating something new .\n",
    "    2. In this machine , a beam of protons and anti-protons are accelerated to near the speed of light and brought \n",
    "       together in a collision , producing a burst of pure energy .\n",
    "\n",
    "**Repeat** this with the **smoothed (add-1)** versions of the N-grams. What is the effect of smoothing on the probabilities?\n"
   ]
  },
  {
   "cell_type": "code",
   "execution_count": 53,
   "metadata": {
    "scrolled": true
   },
   "outputs": [
    {
     "name": "stdout",
     "output_type": "stream",
     "text": [
      "Language Models without smoothing for first sentence(order N=1,N=2,N=3)\n",
      "8.711492631550748e-27\n",
      "4.6227147955983436e-17\n",
      "4.257773435434731e-09\n",
      "Language Models without smoothing for second sentence(order N=1,N=2,N=3)\n",
      "2.7545011290780525e-102\n",
      "4.761675331303943e-73\n",
      "4.196066574051619e-09\n",
      "Language Models with smoothing for first sentence(order N=1,N=2,N=3)\n",
      "7.628916963308627e-27\n",
      "1.3640114506184915e-26\n",
      "4.257773435434731e-09\n",
      "Language Models with smoothing for second sentence(order N=1,N=2,N=3)\n",
      "4.1094973212476584e-102\n",
      "1.554402615379383e-116\n",
      "3.381118877345232e-35\n"
     ]
    }
   ],
   "source": [
    "sent1 = \"<s> Every day was about creating something new . </s>\"\n",
    "sent2 = \"<s> In this machine , a beam of protons and anti-protons are accelerated to near the speed of light and brought together in a collision , producing a burst of pure energy . </s>\"\n",
    "sent1 = sent1.split(\" \")\n",
    "sent2 = sent2.split(\" \")\n",
    "prob_uni1 =1\n",
    "prob_bi1 = 1\n",
    "prob_tri1 = 1\n",
    "for i in range(len(sent1)):\n",
    "    prob_uni1 = unigram[sent1[i]] * prob_uni1\n",
    "    if i>=1:\n",
    "        prob_bi1 = bigram[sent1[i-1]][sent1[i]] * prob_bi1\n",
    "    if i>=2:\n",
    "        prob_tri1 = trigram[sent1[i-2]+\" \"+ sent1[i-1]][sent1[i]] * prob_tri1\n",
    "prob_uni2 =1\n",
    "prob_bi2 = 1\n",
    "prob_tri2 = 1\n",
    "for i in range(len(sent2)):\n",
    "    prob_uni2 = unigram[sent2[i]] * prob_uni2\n",
    "    if i>=1:\n",
    "        prob_bi2 = bigram[sent2[i-1]][sent2[i]] * prob_bi2\n",
    "    if i>=2:\n",
    "        prob_tri2 = trigram[sent2[i-2]+\" \"+ sent2[i-1]][sent2[i]] * prob_tri1\n",
    "\n",
    "print(\"Language Models without smoothing for first sentence(order N=1,N=2,N=3)\")\n",
    "print(prob_uni1)\n",
    "print(prob_bi1)\n",
    "print(prob_tri1)\n",
    "print(\"Language Models without smoothing for second sentence(order N=1,N=2,N=3)\")\n",
    "print(prob_uni2)\n",
    "print(prob_bi2)\n",
    "print(prob_tri2)\n",
    "\n",
    "prob_uni1sm =1\n",
    "prob_bi1sm = 1\n",
    "prob_tri1sm = 1\n",
    "for i in range(len(sent1)):\n",
    "    prob_uni1sm = unigram_smoothed1[sent1[i]] * prob_uni1sm\n",
    "    if i>=1:\n",
    "        prob_bi1sm = bigram_smoothed1[sent1[i-1]][sent1[i]] * prob_bi1sm\n",
    "    if i>=2:\n",
    "        prob_tri1sm = trigram_sm[sent1[i-2]+\" \"+ sent1[i-1]][sent1[i]] * prob_tri1sm\n",
    "prob_uni2sm =1\n",
    "prob_bi2sm = 1\n",
    "prob_tri2sm = 1\n",
    "for i in range(len(sent2)):\n",
    "    prob_uni2sm = unigram_smoothed1[sent2[i]] * prob_uni2sm\n",
    "    if i>=1:\n",
    "        prob_bi2sm = bigram_smoothed1[sent2[i-1]][sent2[i]] * prob_bi2sm\n",
    "    if i>=2:\n",
    "        prob_tri2sm = trigram_sm[sent2[i-2]+\" \"+ sent2[i-1]][sent2[i]] * prob_tri1sm\n",
    "        \n",
    "print(\"Language Models with smoothing for first sentence(order N=1,N=2,N=3)\")\n",
    "print(prob_uni1sm)\n",
    "print(prob_bi1sm)\n",
    "print(prob_tri1)\n",
    "print(\"Language Models with smoothing for second sentence(order N=1,N=2,N=3)\")\n",
    "print(prob_uni2sm)\n",
    "print(prob_bi2sm)\n",
    "print(prob_tri2sm)\n",
    "    "
   ]
  },
  {
   "cell_type": "markdown",
   "metadata": {},
   "source": [
    "Language Models without smoothing for first sentence(order N=1,N=2,N=3)\n",
    "8.711492631550748e-27\n",
    "4.6227147955983436e-17\n",
    "4.257773435434731e-09\n",
    "Language Models without smoothing for second sentence(order N=1,N=2,N=3)\n",
    "2.7545011290780525e-102\n",
    "4.761675331303943e-73\n",
    "4.196066574051619e-09\n",
    "Language Models with smoothing for first sentence(order N=1,N=2,N=3)\n",
    "7.628916963308627e-27\n",
    "1.3640114506184915e-26\n",
    "4.257773435434731e-09\n",
    "Language Models with smoothing for second sentence(order N=1,N=2,N=3)\n",
    "4.1094973212476584e-102\n",
    "1.554402615379383e-116\n",
    "3.381118877345232e-35\n",
    "\n",
    "By looking the probabilities for the UN-smoothed models with N=1:3 and their smoothed counterparts, in both sentences the probabilities of the unsmoothed models are higher than the probabilities of the smoothed ones, as expected. In every sentence every model presented an answer, as the sentences were in the training set."
   ]
  },
  {
   "cell_type": "markdown",
   "metadata": {},
   "source": [
    "## Exercise 2.5 (5 points)\n",
    "\n",
    "The above sentences were taken from the training set, hence they will all have probability greater than 0. The big challenge for our language model are of course with sentence that contain unseen N-grams: if such an N-gram occurs our model immediately assigns the sentence probability zero.\n",
    "\n",
    "The following three senteces are taken from the **test set** availlable in the file **ted-test.txt**. What probabilities do your smoothed and unsmoothed language models asign in this case?\n",
    "\n",
    "    1. Because these robots are really safe .\n",
    "    2. We have sheer nothingness on one side , and we have this vision of a reality that encompasses every \n",
    "       conceivable world at the other extreme : the fullest possible reality , nothingness , the simplest possible \n",
    "       reality ."
   ]
  },
  {
   "cell_type": "code",
   "execution_count": 54,
   "metadata": {
    "scrolled": false
   },
   "outputs": [
    {
     "name": "stdout",
     "output_type": "stream",
     "text": [
      "Language Models without smoothing for first sentence(order N=1,N=2,N=3)\n",
      "3.5731707008639346e-24\n",
      "2.660588472701394e-15\n",
      "0.0\n",
      "Language Models without smoothing for second sentence(order N=1,N=2,N=3)\n",
      "3.699664748429897e-120\n",
      "0.0\n",
      "0.0\n",
      "Language Models with smoothing for first sentence(order N=1,N=2,N=3)\n",
      "3.1752707507961485e-24\n",
      "7.25807027066009e-24\n",
      "0.0\n",
      "Language Models with smoothing for second sentence(order N=1,N=2,N=3)\n",
      "3.60955452918289e-120\n",
      "1.4189813501695615e-126\n",
      "1.3903937664756158e-33\n"
     ]
    }
   ],
   "source": [
    "sent1 = \"<s> Because these robots are really safe . </s>\"\n",
    "sent2 = \"<s> We have sheer nothingness on one side , and we have this vision of a reality that encompasses every conceivable world at the other extreme : the fullest possible reality , nothingness , the simplest possible reality . </s>\"\n",
    "sent1 = sent1.split(\" \")\n",
    "sent2 = sent2.split(\" \")\n",
    "prob_uni1 =1\n",
    "prob_bi1 = 1\n",
    "prob_tri1 = 1\n",
    "for i in range(len(sent1)):\n",
    "    prob_uni1 = unigram[sent1[i]] * prob_uni1\n",
    "    if i>=1:\n",
    "        prob_bi1 = bigram[sent1[i-1]][sent1[i]] * prob_bi1\n",
    "    if i>=2:\n",
    "        prob_tri1 = trigram[sent1[i-2]+\" \"+ sent1[i-1]][sent1[i]] * prob_tri1\n",
    "prob_uni2 =1\n",
    "prob_bi2 = 1\n",
    "prob_tri2 = 1\n",
    "for i in range(len(sent2)):\n",
    "    prob_uni2 = unigram[sent2[i]] * prob_uni2\n",
    "    if i>=1:\n",
    "        prob_bi2 = bigram[sent2[i-1]][sent2[i]] * prob_bi2\n",
    "    if i>=2:\n",
    "        prob_tri2 = trigram[sent2[i-2]+\" \"+ sent2[i-1]][sent2[i]] * prob_tri1\n",
    "        \n",
    "print(\"Language Models without smoothing for first sentence(order N=1,N=2,N=3)\")\n",
    "print(prob_uni1)\n",
    "print(prob_bi1)\n",
    "print(prob_tri1)\n",
    "print(\"Language Models without smoothing for second sentence(order N=1,N=2,N=3)\")\n",
    "print(prob_uni2)\n",
    "print(prob_bi2)\n",
    "print(prob_tri2)\n",
    "\n",
    "prob_uni1sm =1\n",
    "prob_bi1sm = 1\n",
    "prob_tri1sm = 1\n",
    "for i in range(len(sent1)):\n",
    "    prob_uni1sm = unigram_smoothed1[sent1[i]] * prob_uni1sm\n",
    "    if i>=1:\n",
    "        prob_bi1sm = bigram_smoothed1[sent1[i-1]][sent1[i]] * prob_bi1sm\n",
    "    if i>=2:\n",
    "        prob_tri1sm = trigram_sm[sent1[i-2]+\" \"+ sent1[i-1]][sent1[i]] * prob_tri1sm\n",
    "prob_uni2sm =1\n",
    "prob_bi2sm = 1\n",
    "prob_tri2sm = 1\n",
    "for i in range(len(sent2)):\n",
    "    prob_uni2sm = unigram_smoothed1[sent2[i]] * prob_uni2sm\n",
    "    if i>=1:\n",
    "        prob_bi2sm = bigram_smoothed1[sent2[i-1]][sent2[i]] * prob_bi2sm\n",
    "    if i>=2:\n",
    "        prob_tri2sm = trigram_sm[sent2[i-2]+\" \"+ sent2[i-1]][sent2[i]] * prob_tri1sm\n",
    "        \n",
    "print(\"Language Models with smoothing for first sentence(order N=1,N=2,N=3)\")\n",
    "print(prob_uni1sm)\n",
    "print(prob_bi1sm)\n",
    "print(prob_tri1)\n",
    "print(\"Language Models with smoothing for second sentence(order N=1,N=2,N=3)\")\n",
    "print(prob_uni2sm)\n",
    "print(prob_bi2sm)\n",
    "print(prob_tri2sm)"
   ]
  },
  {
   "cell_type": "markdown",
   "metadata": {},
   "source": [
    "Language Models without smoothing for first sentence(order N=1,N=2,N=3)\n",
    "3.5731707008639346e-24\n",
    "2.660588472701394e-15\n",
    "0.0\n",
    "Language Models without smoothing for second sentence(order N=1,N=2,N=3)\n",
    "3.699664748429897e-120\n",
    "0.0\n",
    "0.0\n",
    "Language Models with smoothing for first sentence(order N=1,N=2,N=3)\n",
    "3.1752707507961485e-24\n",
    "7.25807027066009e-24\n",
    "0.0\n",
    "Language Models with smoothing for second sentence(order N=1,N=2,N=3)\n",
    "3.60955452918289e-120\n",
    "1.4189813501695615e-126\n",
    "1.3903937664756158e-33\n",
    "\n",
    "In this case, the un-smoothed models faced difficulties as the sentences were not in the training set. The unigrams and the bigram on the first sentence provided probabilities as these compinations were in the training set, this can not be said for the trigram in both sentences. The Smoothed models were able to provide a probability for both casesm except for the trigram in the first sentence.\n",
    "When the UN-smoothed models were able to provide a probability for the sentences, these probabilities were higher than their Smoothed counterparts."
   ]
  },
  {
   "cell_type": "markdown",
   "metadata": {},
   "source": [
    "### [Extra]\n",
    "\n",
    "**Optional** What percentage of the sentences in the test set get assigned probability 0 under your smoothed and unsmoothed language models? "
   ]
  },
  {
   "cell_type": "code",
   "execution_count": 27,
   "metadata": {},
   "outputs": [
    {
     "name": "stdout",
     "output_type": "stream",
     "text": [
      "for unigram : 0.11188811188811189\n",
      "for bigram : 0.7132867132867133\n",
      "for trigram : 0.8916083916083916\n",
      "for unigram smoothed : 0.0\n",
      "for bigram smoothed : 0.0\n",
      "for trigram smoothed : 0.0034965034965034965\n"
     ]
    }
   ],
   "source": [
    "data_t, w2i_t, i2w_t = read('ted-test.txt') #read the file\n",
    "#counters\n",
    "uni = 0\n",
    "uni_sm =0\n",
    "bi = 0\n",
    "bi_sm = 0\n",
    "tri = 0\n",
    "tri_sm=0\n",
    "for l in data_t:\n",
    "    words = l\n",
    "    prob_uni =1\n",
    "    prob_bi = 1\n",
    "    prob_tri = 1\n",
    "    prob_unism =1\n",
    "    prob_bism = 1\n",
    "    prob_trism = 1\n",
    "    for i in range(len(words)):\n",
    "        prob_uni = unigram[words[i]] * prob_uni\n",
    "        prob_unism = unigram_smoothed6[words[i]] * prob_unism\n",
    "        if i>=1:\n",
    "            prob_bi = bigram[words[i-1]][words[i]] * prob_bi\n",
    "            prob_bism = bigram_smoothed6[words[i-1]][words[i]] * prob_bism\n",
    "        if i>=2:\n",
    "            prob_tri = trigram[words[i-2]+\" \"+ words[i-1]][words[i]] * prob_tri\n",
    "            prob_trism = trigram_sm[words[i-2]+\" \"+ words[i-1]][words[i]] * prob_trism\n",
    "    if prob_uni ==0 :\n",
    "        uni +=1\n",
    "    if prob_bi ==0 :\n",
    "        bi +=1\n",
    "    if prob_tri ==0 :\n",
    "        tri +=1\n",
    "    if prob_unism ==0 :\n",
    "        uni_sm +=1\n",
    "    if prob_bism ==0 :\n",
    "        bi_sm +=1\n",
    "    if prob_trism ==0 :\n",
    "        tri_sm +=1\n",
    "print(\"for unigram : \" + str(uni/len(data_t)))\n",
    "print(\"for bigram : \" + str(bi/len(data_t)))\n",
    "print(\"for trigram : \" + str(tri/len(data_t)))\n",
    "print(\"for unigram smoothed : \" + str(uni_sm/len(data_t)))\n",
    "print(\"for bigram smoothed : \" + str(bi_sm/len(data_t)))\n",
    "print(\"for trigram smoothed : \" + str(tri_sm/len(data_t)))\n",
    "    \n",
    "    "
   ]
  },
  {
   "cell_type": "markdown",
   "metadata": {},
   "source": [
    "These are the percentage of 0 percentage sentences from the test set depending on the model: \n",
    "for unigram : 0.11188811188811189\n",
    "for bigram : 0.7132867132867133\n",
    "for trigram : 0.8916083916083916\n",
    "for unigram smoothed : 0.0\n",
    "for bigram smoothed : 0.0\n",
    "for trigram smoothed : 0.0034965034965034965\n"
   ]
  },
  {
   "cell_type": "markdown",
   "metadata": {},
   "source": [
    "## Exercise 2.6 (5 points)\n",
    "\n",
    "**Perplexity** is very frequently used **metric** for evaluating probabilistic models such as language models. The perplexity (sometimes called **PP** for short) of a language model on a sentence is the **inverse probability** of the sentence, **normalized** by the number of words:\n",
    "\n",
    "$$PP(w_1 \\dots w_n) = P(w_1\\dots w_n)^{-\\frac{1}{n}}.$$\n",
    "\n",
    "Here we can again approximate $P(w_1 \\dots w_n)$ with N-gram probabilities, as above.\n",
    "Note: $(x_1\\cdots x_n)^{-\\frac{1}{n}}$ is the **geometric mean** of the numbers $x_1,\\dots,x_n$. It is like the (regular) artithmetic mean, but with **products** instead of **sums**. The geometric mean is a more natural choice in the case of *PP* because behind $P(w_1\\dots w_n)$ is a series of $n$ products ([more here](https://en.wikipedia.org/wiki/Geometric_mean)).\n",
    "\n",
    "\n",
    "\n",
    "Compute the perplexity of the training sentences from excercise 2.1. What big difference between the **probabilities** of the sentences and the **perplexities** of the sentences do you notice?"
   ]
  },
  {
   "cell_type": "code",
   "execution_count": 65,
   "metadata": {},
   "outputs": [
    {
     "name": "stdout",
     "output_type": "stream",
     "text": [
      "['<s>', 'Here', 'are', 'two', 'reasons', 'companies', 'fail', ':', 'they', 'only', 'do', 'more', 'of', 'the', 'same', ',', 'or', 'they', 'only', 'do', 'what', \"'s\", 'new', '.', '</s>']\n",
      "3.5368055690067852e-65 378.49099611529766\n",
      "6.372455067420436e-48 77.23741472306979\n",
      "5.453995871880849e-32 17.80456665296834\n",
      "5.784680949966289e-20 5.8817806404813044\n",
      "['<s>', 'To', 'me', 'the', 'real', ',', 'real', 'solution', 'to', 'quality', 'growth', 'is', 'figuring', 'out', 'the', 'balance', 'between', 'two', 'activities', ':', 'exploration', 'and', 'exploitation', '.', '</s>']\n",
      "1.970362818093642e-75 973.2359703082361\n",
      "2.610548914437361e-54 139.10115195961973\n",
      "9.251353707618525e-27 10.998964202219433\n",
      "9.7727081854066e-18 4.790704711929166\n",
      "['<s>', 'Both', 'are', 'necessary', ',', 'but', 'it', 'can', 'be', 'too', 'much', 'of', 'a', 'good', 'thing', '.', '</s>']\n",
      "6.076601867498382e-43 304.3084917895715\n",
      "7.410519193884516e-26 30.077670535673615\n",
      "1.1580949433204975e-16 8.658184055618948\n",
      "4.3826016703124964e-13 5.332820197706783\n",
      "['<s>', 'Consider', 'Facit', '.', '</s>']\n",
      "9.944013701333497e-16 1001.1235028444579\n",
      "3.601924686357515e-07 19.43985738130337\n",
      "0.001524390243902439 3.6591546756088276\n",
      "0.04000000000000001 1.9036539387158784\n",
      "['<s>', 'I', \"'m\", 'actually', 'old', 'enough', 'to', 'remember', 'them', '.', '</s>']\n",
      "2.5290234288167056e-27 261.76608460035663\n",
      "5.565779593033932e-17 30.03858384272893\n",
      "2.932862209929887e-10 7.355460187116847\n",
      "1.962146043079387e-08 5.019503810767168\n",
      "['<s>', 'Facit', 'was', 'a', 'fantastic', 'company', '.', '</s>']\n",
      "1.20411843684755e-22 549.435035328794\n",
      "5.79095511307193e-14 45.149840992998016\n",
      "1.9979662392107007e-07 6.877434799574971\n",
      "0.00016000000000000007 2.981844571770067\n",
      "['<s>', 'They', 'were', 'born', 'deep', 'in', 'the', 'Swedish', 'forest', ',', 'and', 'they', 'made', 'the', 'best', 'mechanical', 'calculators', 'in', 'the', 'world', '.', '</s>']\n",
      "5.150866938210966e-61 550.0080879001732\n",
      "1.1544245238226654e-34 34.88347550673246\n",
      "2.6135704997746203e-27 16.155021319265185\n",
      "1.0268353543641998e-18 6.571417408770432\n",
      "['<s>', 'Everybody', 'used', 'them', '.', '</s>']\n",
      "3.1401398574276427e-15 261.3215154672385\n",
      "2.4640829188011942e-09 27.20972256353597\n",
      "0.0001149908900632619 4.534778658232524\n",
      "0.008000000000000002 2.2360679774997894\n",
      "['<s>', 'And', 'what', 'did', 'Facit', 'do', 'when', 'the', 'electronic', 'calculator', 'came', 'along', '?', 'They', 'continued', 'doing', 'exactly', 'the', 'same', '.', '</s>']\n",
      "8.708098227808332e-64 1006.6089658233817\n",
      "5.2710232419904196e-39 66.49161905372789\n",
      "5.729831547140458e-22 10.268737557757795\n",
      "1.1743665842593555e-14 4.606198840383983\n",
      "['<s>', 'In', 'six', 'months', ',', 'they', 'went', 'from', 'maximum', 'revenue', '.', '</s>']\n",
      "1.2459802828915314e-34 668.91982762642\n",
      "1.3020903166365428e-18 30.934747409281428\n",
      "6.837608066113335e-14 12.50521942030563\n",
      "7.054673721340388e-09 4.778521990660996\n"
     ]
    }
   ],
   "source": [
    "p1 =[]\n",
    "p2 = []\n",
    "p3 = []\n",
    "p4 = []\n",
    "pp1 = []\n",
    "pp2 = []\n",
    "pp3 = []\n",
    "pp4 = []\n",
    "for line in data:\n",
    "    pn1 = 1\n",
    "    pn2 = 1\n",
    "    pn3 = 1\n",
    "    pn4 = 1\n",
    "    words = line\n",
    "    #unigram\n",
    "    for i in range(len(words)):\n",
    "        pn1 = pn1 *unigram[words[i]]\n",
    "        if i>0:\n",
    "            pn2 = pn2 * bigram[words[i-1]][words[i]]\n",
    "        if i>1:\n",
    "            pn3 = pn3 * trigram[words[i-2]+\" \"+ words[i-1]][words[i]]\n",
    "        if i>2:\n",
    "            pn4 = pn4 * quadgram[words[i-3]+\" \"+ words[i-2]+\" \"+ words[i-1]][words[i]]\n",
    "        if i == len(words)-1:\n",
    "            p1.append(pn1)\n",
    "            pp1.append(pn1**(-1/len(words)) if pn1!=0 else 0)\n",
    "            p2.append(pn2)\n",
    "            pp2.append(pn2**(-1/len(words))if pn2!=0 else 0)\n",
    "            p3.append(pn3)\n",
    "            pp3.append(pn3**(-1/len(words))if pn3!=0 else 0)\n",
    "            p4.append(pn4)\n",
    "            pp4.append(pn4**(-1/len(words))if pn4!=0 else 0)\n",
    "            \n",
    "for i in range(10):\n",
    "    print(data[i])\n",
    "    print(p1[i],pp1[i])\n",
    "    print(p2[i],pp2[i])\n",
    "    print(p3[i],pp3[i])\n",
    "    print(p4[i],pp4[i])"
   ]
  },
  {
   "cell_type": "markdown",
   "metadata": {},
   "source": [
    "-What big difference between the probabilities of the sentences and the perplexities of the sentences do you notice?\n",
    "\n",
    "    As the formula dictates, as a probability goes smaller the perplexity score rises. When a probability is close to 1 the perplexity score is also close to 1. \n",
    "    EXAMPLE: probability<-0.04000000000000001 has perplexity<-1.9036539387158784"
   ]
  },
  {
   "cell_type": "markdown",
   "metadata": {},
   "source": [
    "# That's it!\n",
    "\n",
    "Congratulations, you have made it to the end of the tutorial. Here we will recap the gist of this notebook. \n",
    "\n",
    "**Make sure all your cells can be executed and all your answers are there. Then, read on if you're interested!**\n",
    "\n",
    "-----\n",
    "\n",
    "By now you should have a solid feeling for the problem of **sparsity in language data**; there's just never enough data. For the task of language modelling, we saw that sparsity is a serious challenge. \n",
    "\n",
    "It would be great to be able to model $p(w_n|w_1 \\dots w_{n-1})$ for unlimited $n$: the larger $n$ the better our language model should become at capturing the long-range dependencies between words that characterize actual human sentences, and the more probability our model will asign to such sentences as opposed to sentences that are word-soup. But in the N-gram approach, increasing $n$ will quickly kill all generalizing abilities of the model: the model will start to asign probabilities only to sentences it has seen in the training data.\n",
    "\n",
    "So, where to go from here? Here are three directions that we could head in.\n",
    "\n",
    "### Smoothing\n",
    "\n",
    "We have seen one example of smoothing in this lab: add-k smoothing. This is an easy method, both conceptually and implementation-wise. But the results are not great, and the effects it has on the distributions can be extreme.\n",
    "\n",
    "A much more sophisticated method of smoothing is so-called **Kneser-Ney smoothing**. The method is described in detail in section 4.5 of J&M (3rd edition). This is one of the best performing N-gram smoothing methods, and up to a few years ago a popular implementation of it called [KenLM](https://kheafield.com/code/kenlm/) gave state of the art results.\n",
    "\n",
    "### From words to characters\n",
    "\n",
    "In this lab we have considered language modeling as the task of predicting a **word** $w_n$ based on a history of **words** $w_1\\cdots w_n$. What if instead we let our basic units of modelling be **characters**? The task then becomes to model $p(c_k\\mid c_{k-N-1}\\dots c_{k-1})$ where each $c_i$ is now an ASCII character instead of an entire word.\n",
    "\n",
    "Suddenly sparsity of data is no longer a problem! The set of characters to use is tiny (< 100) compared to even a small-sized vocabulary as today. Have a look at this very illustrative notebook written by Yoav Golberg to see such a method in action: [The unreasonable effectiveness of Character-level Language Models](http://nbviewer.jupyter.org/gist/yoavg/d76121dfde2618422139).\n",
    "\n",
    "(So what is the downside?)\n",
    "\n",
    "\n",
    "### Neural language models\n",
    "\n",
    "The above notebook was actually written as a response to this blog post by Andrej Karpathy: [The Unreasonable Effectiveness of Recurrent Neural Networks](http://karpathy.github.io/2015/05/21/rnn-effectiveness/). Go ahead and read it if you haven't already: it is a superb introduction to the topic of Recurrent Neural Networks.\n",
    "\n",
    "Neural language models solve the problem of data sparsity in a different manner. Instead of estimating the probabilities $p(w_k\\mid w_{k-N-1}\\dots w_{k-1})$ by counting occurences in the data, they use a neural network $f_{\\theta}$ parametrized by parameters $\\theta$ to predict this probability. The parameters $\\theta$ are learned through optimization. \n",
    "\n",
    "The simplest approach goes like this: each word in the history $w_{k-N-1}\\dots w_{k-1}$ is embedded separately giving  vectors $e_{k-N-1}\\dots e_{k-1}$ and then concatenated into one long vectors $[e_{k-N-1};\\dots ;e_{k-1}]$. The network then uses this history vector to predict a probability distribution over words $w$ in the vocabulary $V$:\n",
    "\n",
    "$$p(w \\mid w_{k-N-1}\\dots w_{k-1}) = f_{\\theta}([e_{k-N-1};\\dots;e_{k-1}]).$$\n",
    "\n",
    "(In order to produce legitimate probabilities the final layer of such a network will be for example a $softmax$.)\n",
    "\n",
    "This provides a solution to the sparsity problem by having the network let the individual embeddings of the words in the history interact through its non-linear transforamtion. We are letting the network figure out the smoothing itself!\n",
    "\n",
    "RNNs are a clever extension of this idea, where a hidden state vector $h$ is re-used and updated at each step $k$ in order to store the information of the entire history up to step $k-1$. That is, an RNN actually does away with the N-order approximation; it tries to model the full conditional directly! That means that\n",
    "\n",
    "$$p(w \\mid w_1\\dots w_{k-1}) \\approx RNN_{\\theta}([e_{k-1};h_{k-1}])$$\n",
    "\n",
    "where the hidden state $h_{k-1}$ is a compression of the *entire history* $w_1\\dots w_{k-1}$.\n",
    "\n",
    "Another great place to learn about RNNs, their problems, and solutions to those, is on the blog of [Christopher Olah](http://colah.github.io/posts/2015-08-Understanding-LSTMs/). \n",
    "\n",
    "-----------\n",
    "(And now, it's time to read the classic essay by Eugene Wigner that gave both of the posts their title: [The Unreasonable Effectiveness of Mathematics in the Natural Sciences](http://www.dartmouth.edu/~matc/MathDrama/reading/Wigner.html))\n",
    "\n",
    "\n",
    "Acknowledgements: Most of this lab was developed in collabnoration with Joost Bastings and Dan Douwe."
   ]
  },
  {
   "cell_type": "code",
   "execution_count": null,
   "metadata": {},
   "outputs": [],
   "source": []
  }
 ],
 "metadata": {
  "anaconda-cloud": {},
  "kernelspec": {
   "display_name": "Python 3",
   "language": "python",
   "name": "python3"
  },
  "language_info": {
   "codemirror_mode": {
    "name": "ipython",
    "version": 3
   },
   "file_extension": ".py",
   "mimetype": "text/x-python",
   "name": "python",
   "nbconvert_exporter": "python",
   "pygments_lexer": "ipython3",
   "version": "3.8.5"
  }
 },
 "nbformat": 4,
 "nbformat_minor": 1
}
